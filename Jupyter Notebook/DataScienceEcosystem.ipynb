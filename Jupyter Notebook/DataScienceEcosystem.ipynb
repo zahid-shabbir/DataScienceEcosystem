{
 "cells": [
  {
   "cell_type": "markdown",
   "id": "35b4e9da-4a48-4f42-a382-0ad43acd599a",
   "metadata": {},
   "source": [
    "# Data Science Tools and Ecosystem\n",
    "\n",
    "Follow me on [Github](https://github.com/zahid-shabbir/).\n",
    "\n",
    "## This is H2\n",
    "\n",
    "### This is H3\n",
    "\n",
    "```python\n",
    "# code blocks\n",
    "def hello_markdown():\n",
    "    print(\"Hello, Markdown! This is Zahid shabbir\")\n",
    "\n",
    "hello_markdown()\n"
   ]
  },
  {
   "cell_type": "markdown",
   "id": "16feaed8-3f70-4ed3-9e26-ea791026d1b7",
   "metadata": {},
   "source": [
    "# Introduction\n",
    "\n",
    "In this notebook, Data Science Tools and Ecosystem are summarized.\n"
   ]
  },
  {
   "cell_type": "markdown",
   "id": "5a2bdecb-c360-4d56-ab6f-700f22ab6f04",
   "metadata": {},
   "source": [
    "# Data Science Languages\n",
    "\n",
    "Some of the popular languages that Data Scientists use are:\n",
    "\n",
    "1. Python\n",
    "2. R\n",
    "3. Julia\n"
   ]
  },
  {
   "cell_type": "markdown",
   "id": "6dfc5321-2771-4875-8992-8f8a902d9f70",
   "metadata": {},
   "source": [
    "# Data Science Libraries\n",
    "\n",
    "Some of the commonly used libraries used by Data Scientists include:\n",
    "\n",
    "1. NumPy\n",
    "2. Pandas\n",
    "3. Matplotlib\n"
   ]
  },
  {
   "cell_type": "markdown",
   "id": "f2451bfc-2781-492b-8071-2bb5473d58cb",
   "metadata": {},
   "source": [
    "# Data Science Tools\n",
    "\n",
    "| Data Science Tools |\n",
    "|--------------------|\n",
    "| Jupyter Notebook   |\n",
    "| RStudio            |\n",
    "| Spyder             |\n",
    "\n"
   ]
  },
  {
   "cell_type": "markdown",
   "id": "a9797012-4ac7-44db-8deb-b96f86b03256",
   "metadata": {},
   "source": [
    "### Arithmetic Expression Examples\n",
    "\n",
    "Below are a few examples of evaluating arithmetic expressions in Python.\n",
    "\n"
   ]
  },
  {
   "cell_type": "markdown",
   "id": "8a6f0224-e280-4f98-9389-7031b8acd69a",
   "metadata": {},
   "source": [
    "# This is a simple arithmetic expression to multiply then add integers.\n",
    "result = (3 * 4) + 5\n",
    "result\n",
    "\n"
   ]
  },
  {
   "cell_type": "markdown",
   "id": "c3fdf862-35cd-4ea8-987e-92fbb65edc0d",
   "metadata": {},
   "source": [
    "# This will convert 200 minutes to hours by dividing by 60.\n",
    "hours = 200 / 60\n",
    "hours\n"
   ]
  },
  {
   "cell_type": "markdown",
   "id": "3c62ec81-8a0d-41ea-917c-2f2f80dc0d1f",
   "metadata": {},
   "source": [
    "# Objectives\n",
    "\n",
    "**Key takeaways from this notebook:**\n",
    "\n",
    "- List popular languages for Data Science.\n",
    "- Explore commonly used libraries in Data Science.\n",
    "- Understand the role of Data Science tools.\n"
   ]
  },
  {
   "cell_type": "markdown",
   "id": "0bf28058-c647-4fa8-a377-33ef8e53917d",
   "metadata": {},
   "source": [
    "## Author\n",
    "\n",
    "Zahid Shabbir\n"
   ]
  },
  {
   "cell_type": "code",
   "execution_count": null,
   "id": "add2ebc2-b7ed-4614-8bc7-97afadcb3760",
   "metadata": {},
   "outputs": [],
   "source": []
  }
 ],
 "metadata": {
  "kernelspec": {
   "display_name": "Python",
   "language": "python",
   "name": "conda-env-python-py"
  },
  "language_info": {
   "codemirror_mode": {
    "name": "ipython",
    "version": 3
   },
   "file_extension": ".py",
   "mimetype": "text/x-python",
   "name": "python",
   "nbconvert_exporter": "python",
   "pygments_lexer": "ipython3",
   "version": "3.7.12"
  }
 },
 "nbformat": 4,
 "nbformat_minor": 5
}
